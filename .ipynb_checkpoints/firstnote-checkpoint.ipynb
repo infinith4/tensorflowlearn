{
 "cells": [
  {
   "cell_type": "code",
   "execution_count": 12,
   "metadata": {
    "collapsed": false
   },
   "outputs": [
    {
     "name": "stdout",
     "output_type": "stream",
     "text": [
      "Tensor(\"Placeholder_15:0\", shape=(?, 5), dtype=float32)\n",
      "<tensorflow.python.ops.variables.Variable object at 0x7fda24110a90>\n",
      "Step:10000,Loss:31.014391\n",
      "Step:20000,Loss:29.295158\n",
      "Step:30000,Loss:28.033054\n",
      "Step:40000,Loss:26.855808\n",
      "Step:50000,Loss:25.771938\n",
      "Step:60000,Loss:26.711918\n",
      "Step:70000,Loss:24.436256\n",
      "Step:80000,Loss:22.975143\n",
      "Step:90000,Loss:22.194229\n",
      "Step:100000,Loss:21.434664\n"
     ]
    }
   ],
   "source": [
    "import tensorflow as tf\n",
    "import numpy as np\n",
    "import matplotlib.pyplot as plt\n",
    "x=tf.placeholder(tf.float32,[None,5])\n",
    "print(x)\n",
    "w=tf.Variable(tf.zeros([5,1]))\n",
    "print(w)\n",
    "#w_val=sess.run(w)\n",
    "#print(w_val)\n",
    "y = tf.matmul(x,w)\n",
    "t=tf.placeholder(tf.float32,[None,1])\n",
    "loss=tf.reduce_sum(tf.square(y-t))\n",
    "train_step=tf.train.AdamOptimizer().minimize(loss)\n",
    "sess=tf.Session()\n",
    "sess.run(tf.initialize_all_variables())\n",
    "\n",
    "train_t=np.array([5.2,5.7,8.6,14.9,18.2,20.4,25.5,26.4,22.8,17.5,11.1,6.6])\n",
    "train_t=train_t.reshape([12,1])\n",
    "\n",
    "train_x=np.zeros([12,5])\n",
    "for row ,month, in enumerate(range(1,13)):\n",
    "    for col, n in enumerate(range(0,5)):\n",
    "        train_x[row][col] = month**n\n",
    "i=0\n",
    "for _ in range(100000):\n",
    "    i+=1\n",
    "    sess.run(train_step,feed_dict={x:train_x,t:train_t})\n",
    "    if i % 10000 ==0:\n",
    "        loss_val= sess.run(loss,feed_dict={x:train_x,t:train_t})\n",
    "        print('Step:%d,Loss:%f'% (i,loss_val))\n",
    "        "
   ]
  },
  {
   "cell_type": "code",
   "execution_count": null,
   "metadata": {
    "collapsed": true
   },
   "outputs": [],
   "source": []
  },
  {
   "cell_type": "code",
   "execution_count": null,
   "metadata": {
    "collapsed": true
   },
   "outputs": [],
   "source": []
  },
  {
   "cell_type": "code",
   "execution_count": null,
   "metadata": {
    "collapsed": true
   },
   "outputs": [],
   "source": []
  }
 ],
 "metadata": {
  "kernelspec": {
   "display_name": "Python 3",
   "language": "python",
   "name": "python3"
  },
  "language_info": {
   "codemirror_mode": {
    "name": "ipython",
    "version": 3
   },
   "file_extension": ".py",
   "mimetype": "text/x-python",
   "name": "python",
   "nbconvert_exporter": "python",
   "pygments_lexer": "ipython3",
   "version": "3.5.2"
  }
 },
 "nbformat": 4,
 "nbformat_minor": 0
}
